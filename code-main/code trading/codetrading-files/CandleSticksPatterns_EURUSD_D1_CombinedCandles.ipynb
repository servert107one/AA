{
 "cells": [
  {
   "cell_type": "markdown",
   "metadata": {},
   "source": [
    "# Candlesticks Combined patterns analysis"
   ]
  },
  {
   "cell_type": "code",
   "execution_count": 3,
   "metadata": {
    "scrolled": false
   },
   "outputs": [
    {
     "data": {
      "text/html": [
       "<div>\n",
       "<style scoped>\n",
       "    .dataframe tbody tr th:only-of-type {\n",
       "        vertical-align: middle;\n",
       "    }\n",
       "\n",
       "    .dataframe tbody tr th {\n",
       "        vertical-align: top;\n",
       "    }\n",
       "\n",
       "    .dataframe thead th {\n",
       "        text-align: right;\n",
       "    }\n",
       "</style>\n",
       "<table border=\"1\" class=\"dataframe\">\n",
       "  <thead>\n",
       "    <tr style=\"text-align: right;\">\n",
       "      <th></th>\n",
       "      <th>Local time</th>\n",
       "      <th>open</th>\n",
       "      <th>high</th>\n",
       "      <th>low</th>\n",
       "      <th>close</th>\n",
       "      <th>volume</th>\n",
       "    </tr>\n",
       "  </thead>\n",
       "  <tbody>\n",
       "    <tr>\n",
       "      <th>6627</th>\n",
       "      <td>26.06.2021 00:00:00.000 GMT+0300</td>\n",
       "      <td>1.19392</td>\n",
       "      <td>1.19392</td>\n",
       "      <td>1.19392</td>\n",
       "      <td>1.19392</td>\n",
       "      <td>0.00000</td>\n",
       "    </tr>\n",
       "    <tr>\n",
       "      <th>6628</th>\n",
       "      <td>27.06.2021 00:00:00.000 GMT+0300</td>\n",
       "      <td>1.19392</td>\n",
       "      <td>1.19392</td>\n",
       "      <td>1.19392</td>\n",
       "      <td>1.19392</td>\n",
       "      <td>0.00000</td>\n",
       "    </tr>\n",
       "    <tr>\n",
       "      <th>6629</th>\n",
       "      <td>28.06.2021 00:00:00.000 GMT+0300</td>\n",
       "      <td>1.19380</td>\n",
       "      <td>1.19447</td>\n",
       "      <td>1.19025</td>\n",
       "      <td>1.19260</td>\n",
       "      <td>85154.26000</td>\n",
       "    </tr>\n",
       "    <tr>\n",
       "      <th>6630</th>\n",
       "      <td>29.06.2021 00:00:00.000 GMT+0300</td>\n",
       "      <td>1.19297</td>\n",
       "      <td>1.19334</td>\n",
       "      <td>1.18779</td>\n",
       "      <td>1.18973</td>\n",
       "      <td>98898.57000</td>\n",
       "    </tr>\n",
       "    <tr>\n",
       "      <th>6631</th>\n",
       "      <td>30.06.2021 00:00:00.000 GMT+0300</td>\n",
       "      <td>1.18973</td>\n",
       "      <td>1.19092</td>\n",
       "      <td>1.18452</td>\n",
       "      <td>1.18589</td>\n",
       "      <td>4301.30191</td>\n",
       "    </tr>\n",
       "  </tbody>\n",
       "</table>\n",
       "</div>"
      ],
      "text/plain": [
       "                            Local time     open     high      low    close  \\\n",
       "6627  26.06.2021 00:00:00.000 GMT+0300  1.19392  1.19392  1.19392  1.19392   \n",
       "6628  27.06.2021 00:00:00.000 GMT+0300  1.19392  1.19392  1.19392  1.19392   \n",
       "6629  28.06.2021 00:00:00.000 GMT+0300  1.19380  1.19447  1.19025  1.19260   \n",
       "6630  29.06.2021 00:00:00.000 GMT+0300  1.19297  1.19334  1.18779  1.18973   \n",
       "6631  30.06.2021 00:00:00.000 GMT+0300  1.18973  1.19092  1.18452  1.18589   \n",
       "\n",
       "           volume  \n",
       "6627      0.00000  \n",
       "6628      0.00000  \n",
       "6629  85154.26000  \n",
       "6630  98898.57000  \n",
       "6631   4301.30191  "
      ]
     },
     "execution_count": 3,
     "metadata": {},
     "output_type": "execute_result"
    }
   ],
   "source": [
    "import pandas as pd\n",
    "df = pd.read_csv(\"EURUSD_Candlestick_1_D_ASK_05.05.2003-30.06.2021.csv\")\n",
    "df.tail()"
   ]
  },
  {
   "cell_type": "code",
   "execution_count": 6,
   "metadata": {},
   "outputs": [
    {
     "data": {
      "text/html": [
       "<div>\n",
       "<style scoped>\n",
       "    .dataframe tbody tr th:only-of-type {\n",
       "        vertical-align: middle;\n",
       "    }\n",
       "\n",
       "    .dataframe tbody tr th {\n",
       "        vertical-align: top;\n",
       "    }\n",
       "\n",
       "    .dataframe thead th {\n",
       "        text-align: right;\n",
       "    }\n",
       "</style>\n",
       "<table border=\"1\" class=\"dataframe\">\n",
       "  <thead>\n",
       "    <tr style=\"text-align: right;\">\n",
       "      <th></th>\n",
       "      <th>Local time</th>\n",
       "      <th>open</th>\n",
       "      <th>high</th>\n",
       "      <th>low</th>\n",
       "      <th>close</th>\n",
       "      <th>volume</th>\n",
       "      <th>RSI</th>\n",
       "    </tr>\n",
       "  </thead>\n",
       "  <tbody>\n",
       "    <tr>\n",
       "      <th>4729</th>\n",
       "      <td>24.06.2021 00:00:00.000 GMT+0300</td>\n",
       "      <td>1.19267</td>\n",
       "      <td>1.19565</td>\n",
       "      <td>1.19178</td>\n",
       "      <td>1.19322</td>\n",
       "      <td>85152.21000</td>\n",
       "      <td>37.211236</td>\n",
       "    </tr>\n",
       "    <tr>\n",
       "      <th>4730</th>\n",
       "      <td>25.06.2021 00:00:00.000 GMT+0300</td>\n",
       "      <td>1.19322</td>\n",
       "      <td>1.19754</td>\n",
       "      <td>1.19264</td>\n",
       "      <td>1.19392</td>\n",
       "      <td>77837.64500</td>\n",
       "      <td>38.068450</td>\n",
       "    </tr>\n",
       "    <tr>\n",
       "      <th>4731</th>\n",
       "      <td>28.06.2021 00:00:00.000 GMT+0300</td>\n",
       "      <td>1.19380</td>\n",
       "      <td>1.19447</td>\n",
       "      <td>1.19025</td>\n",
       "      <td>1.19260</td>\n",
       "      <td>85154.26000</td>\n",
       "      <td>37.046582</td>\n",
       "    </tr>\n",
       "    <tr>\n",
       "      <th>4732</th>\n",
       "      <td>29.06.2021 00:00:00.000 GMT+0300</td>\n",
       "      <td>1.19297</td>\n",
       "      <td>1.19334</td>\n",
       "      <td>1.18779</td>\n",
       "      <td>1.18973</td>\n",
       "      <td>98898.57000</td>\n",
       "      <td>34.866329</td>\n",
       "    </tr>\n",
       "    <tr>\n",
       "      <th>4733</th>\n",
       "      <td>30.06.2021 00:00:00.000 GMT+0300</td>\n",
       "      <td>1.18973</td>\n",
       "      <td>1.19092</td>\n",
       "      <td>1.18452</td>\n",
       "      <td>1.18589</td>\n",
       "      <td>4301.30191</td>\n",
       "      <td>32.153632</td>\n",
       "    </tr>\n",
       "  </tbody>\n",
       "</table>\n",
       "</div>"
      ],
      "text/plain": [
       "                            Local time     open     high      low    close  \\\n",
       "4729  24.06.2021 00:00:00.000 GMT+0300  1.19267  1.19565  1.19178  1.19322   \n",
       "4730  25.06.2021 00:00:00.000 GMT+0300  1.19322  1.19754  1.19264  1.19392   \n",
       "4731  28.06.2021 00:00:00.000 GMT+0300  1.19380  1.19447  1.19025  1.19260   \n",
       "4732  29.06.2021 00:00:00.000 GMT+0300  1.19297  1.19334  1.18779  1.18973   \n",
       "4733  30.06.2021 00:00:00.000 GMT+0300  1.18973  1.19092  1.18452  1.18589   \n",
       "\n",
       "           volume        RSI  \n",
       "4729  85152.21000  37.211236  \n",
       "4730  77837.64500  38.068450  \n",
       "4731  85154.26000  37.046582  \n",
       "4732  98898.57000  34.866329  \n",
       "4733   4301.30191  32.153632  "
      ]
     },
     "execution_count": 6,
     "metadata": {},
     "output_type": "execute_result"
    }
   ],
   "source": [
    "#Check if NA values are in data\n",
    "df.isna().sum()\n",
    "df= df[df['volume'] != 0]\n",
    "df.reset_index(drop=True, inplace=True)\n",
    "\n",
    "import pandas_ta as ta\n",
    "#df.ta.indicators()\n",
    "#help(ta.atr)\n",
    "#df['ATR'] = df.ta.atr(length=10)\n",
    "df['RSI'] = df.ta.rsi()\n",
    "df.tail()"
   ]
  },
  {
   "cell_type": "code",
   "execution_count": 7,
   "metadata": {},
   "outputs": [],
   "source": [
    "length = len(df)\n",
    "high = list(df['high'])\n",
    "low = list(df['low'])\n",
    "close = list(df['close'])\n",
    "open = list(df['open'])\n",
    "bodydiff = [0] * length\n",
    "\n",
    "highdiff = [0] * length\n",
    "lowdiff = [0] * length\n",
    "ratio1 = [0] * length\n",
    "ratio2 = [0] * length\n",
    "\n",
    "def isEngulfing(l):\n",
    "    row=l\n",
    "    bodydiff[row] = abs(open[row]-close[row])\n",
    "    if bodydiff[row]<0.000001:\n",
    "        bodydiff[row]=0.000001      \n",
    "\n",
    "    bodydiffmin = 0.002\n",
    "    if (bodydiff[row]>bodydiffmin and bodydiff[row-1]>bodydiffmin and\n",
    "        open[row-1]<close[row-1] and\n",
    "        open[row]>close[row] and \n",
    "        (open[row]-close[row-1])>=-0e-5 and close[row]<open[row-1]): #+0e-5 -5e-5\n",
    "        return 1\n",
    "\n",
    "    elif(bodydiff[row]>bodydiffmin and bodydiff[row-1]>bodydiffmin and\n",
    "        open[row-1]>close[row-1] and\n",
    "        open[row]<close[row] and \n",
    "        (open[row]-close[row-1])<=+0e-5 and close[row]>open[row-1]):#-0e-5 +5e-5\n",
    "        return 2\n",
    "    else:\n",
    "        return 0\n",
    "    \n",
    "    \n",
    "def isEngulfingStrong(l):\n",
    "    row=l\n",
    "    bodydiff[row] = abs(open[row]-close[row])\n",
    "    if bodydiff[row]<0.000001:\n",
    "        bodydiff[row]=0.000001      \n",
    "\n",
    "    bodydiffmin = 0.002\n",
    "    if (bodydiff[row]>bodydiffmin and bodydiff[row-1]>bodydiffmin and\n",
    "        open[row-1]<close[row-1] and\n",
    "        open[row]>close[row] and \n",
    "        (open[row]-close[row-1])>=-0e-5 and close[row]<low[row-1]): #+0e-5 -5e-5\n",
    "        return 1\n",
    "\n",
    "    elif(bodydiff[row]>bodydiffmin and bodydiff[row-1]>bodydiffmin and\n",
    "        open[row-1]>close[row-1] and\n",
    "        open[row]<close[row] and \n",
    "        (open[row]-close[row-1])<=+0e-5 and close[row]>high[row-1]):#-0e-5 +5e-5\n",
    "        return 2\n",
    "    else:\n",
    "        return 0\n",
    "    \n",
    "def isStar(l):\n",
    "    bodydiffmin = 0.0020\n",
    "    row=l\n",
    "    highdiff[row] = high[row]-max(open[row],close[row])\n",
    "    lowdiff[row] = min(open[row],close[row])-low[row]\n",
    "    bodydiff[row] = abs(open[row]-close[row])\n",
    "    if bodydiff[row]<0.000001:\n",
    "        bodydiff[row]=0.000001\n",
    "    ratio1[row] = highdiff[row]/bodydiff[row]\n",
    "    ratio2[row] = lowdiff[row]/bodydiff[row]\n",
    "\n",
    "    if (ratio1[row]>1 and lowdiff[row]<0.2*highdiff[row] and bodydiff[row]>bodydiffmin):# and open[row]>close[row]):\n",
    "        return 1\n",
    "    elif (ratio2[row]>1 and highdiff[row]<0.2*lowdiff[row] and bodydiff[row]>bodydiffmin):# and open[row]<close[row]):\n",
    "        return 2\n",
    "    else:\n",
    "        return 0\n",
    "\n",
    "def direction(l):\n",
    "    if (open[l]>close[l]):\n",
    "        return 1\n",
    "    elif (open[l]<close[l]):\n",
    "        return 2\n",
    "    else:\n",
    "        return 0\n",
    "    "
   ]
  },
  {
   "cell_type": "markdown",
   "metadata": {},
   "source": [
    "# Identifying the candle signal"
   ]
  },
  {
   "cell_type": "code",
   "execution_count": 28,
   "metadata": {},
   "outputs": [
    {
     "data": {
      "text/html": [
       "<div>\n",
       "<style scoped>\n",
       "    .dataframe tbody tr th:only-of-type {\n",
       "        vertical-align: middle;\n",
       "    }\n",
       "\n",
       "    .dataframe tbody tr th {\n",
       "        vertical-align: top;\n",
       "    }\n",
       "\n",
       "    .dataframe thead th {\n",
       "        text-align: right;\n",
       "    }\n",
       "</style>\n",
       "<table border=\"1\" class=\"dataframe\">\n",
       "  <thead>\n",
       "    <tr style=\"text-align: right;\">\n",
       "      <th></th>\n",
       "      <th>Local time</th>\n",
       "      <th>open</th>\n",
       "      <th>high</th>\n",
       "      <th>low</th>\n",
       "      <th>close</th>\n",
       "      <th>volume</th>\n",
       "      <th>RSI</th>\n",
       "      <th>signal</th>\n",
       "      <th>Trend</th>\n",
       "      <th>result</th>\n",
       "    </tr>\n",
       "  </thead>\n",
       "  <tbody>\n",
       "    <tr>\n",
       "      <th>4729</th>\n",
       "      <td>24.06.2021 00:00:00.000 GMT+0300</td>\n",
       "      <td>1.19267</td>\n",
       "      <td>1.19565</td>\n",
       "      <td>1.19178</td>\n",
       "      <td>1.19322</td>\n",
       "      <td>85152.21000</td>\n",
       "      <td>37.211236</td>\n",
       "      <td>0</td>\n",
       "      <td>NaN</td>\n",
       "      <td>0</td>\n",
       "    </tr>\n",
       "    <tr>\n",
       "      <th>4730</th>\n",
       "      <td>25.06.2021 00:00:00.000 GMT+0300</td>\n",
       "      <td>1.19322</td>\n",
       "      <td>1.19754</td>\n",
       "      <td>1.19264</td>\n",
       "      <td>1.19392</td>\n",
       "      <td>77837.64500</td>\n",
       "      <td>38.068450</td>\n",
       "      <td>0</td>\n",
       "      <td>NaN</td>\n",
       "      <td>0</td>\n",
       "    </tr>\n",
       "    <tr>\n",
       "      <th>4731</th>\n",
       "      <td>28.06.2021 00:00:00.000 GMT+0300</td>\n",
       "      <td>1.19380</td>\n",
       "      <td>1.19447</td>\n",
       "      <td>1.19025</td>\n",
       "      <td>1.19260</td>\n",
       "      <td>85154.26000</td>\n",
       "      <td>37.046582</td>\n",
       "      <td>0</td>\n",
       "      <td>NaN</td>\n",
       "      <td>0</td>\n",
       "    </tr>\n",
       "    <tr>\n",
       "      <th>4732</th>\n",
       "      <td>29.06.2021 00:00:00.000 GMT+0300</td>\n",
       "      <td>1.19297</td>\n",
       "      <td>1.19334</td>\n",
       "      <td>1.18779</td>\n",
       "      <td>1.18973</td>\n",
       "      <td>98898.57000</td>\n",
       "      <td>34.866329</td>\n",
       "      <td>0</td>\n",
       "      <td>NaN</td>\n",
       "      <td>0</td>\n",
       "    </tr>\n",
       "    <tr>\n",
       "      <th>4733</th>\n",
       "      <td>30.06.2021 00:00:00.000 GMT+0300</td>\n",
       "      <td>1.18973</td>\n",
       "      <td>1.19092</td>\n",
       "      <td>1.18452</td>\n",
       "      <td>1.18589</td>\n",
       "      <td>4301.30191</td>\n",
       "      <td>32.153632</td>\n",
       "      <td>0</td>\n",
       "      <td>NaN</td>\n",
       "      <td>0</td>\n",
       "    </tr>\n",
       "  </tbody>\n",
       "</table>\n",
       "</div>"
      ],
      "text/plain": [
       "                            Local time     open     high      low    close  \\\n",
       "4729  24.06.2021 00:00:00.000 GMT+0300  1.19267  1.19565  1.19178  1.19322   \n",
       "4730  25.06.2021 00:00:00.000 GMT+0300  1.19322  1.19754  1.19264  1.19392   \n",
       "4731  28.06.2021 00:00:00.000 GMT+0300  1.19380  1.19447  1.19025  1.19260   \n",
       "4732  29.06.2021 00:00:00.000 GMT+0300  1.19297  1.19334  1.18779  1.18973   \n",
       "4733  30.06.2021 00:00:00.000 GMT+0300  1.18973  1.19092  1.18452  1.18589   \n",
       "\n",
       "           volume        RSI  signal  Trend  result  \n",
       "4729  85152.21000  37.211236       0    NaN       0  \n",
       "4730  77837.64500  38.068450       0    NaN       0  \n",
       "4731  85154.26000  37.046582       0    NaN       0  \n",
       "4732  98898.57000  34.866329       0    NaN       0  \n",
       "4733   4301.30191  32.153632       0    NaN       0  "
      ]
     },
     "execution_count": 28,
     "metadata": {},
     "output_type": "execute_result"
    }
   ],
   "source": [
    "def Revsignal1():\n",
    "    signal = [0] * length\n",
    "    for row in range(1, length):\n",
    "        if ((isEngulfing(row)==1 and isStar(row)==1) ):#and df.RSI[row]<30\n",
    "            signal[row] = 1\n",
    "        elif((isEngulfing(row)==2 and isStar(row)==2) ):#and df.RSI[row]>70\n",
    "            signal[row] = 2\n",
    "        else:\n",
    "            signal[row] = 0\n",
    "    return signal\n",
    "\n",
    "df['signal'] = Revsignal1()\n",
    "df.tail()"
   ]
  },
  {
   "cell_type": "code",
   "execution_count": 30,
   "metadata": {},
   "outputs": [
    {
     "data": {
      "text/plain": [
       "Local time    4\n",
       "open          4\n",
       "high          4\n",
       "low           4\n",
       "close         4\n",
       "volume        4\n",
       "RSI           4\n",
       "signal        4\n",
       "Trend         4\n",
       "result        4\n",
       "dtype: int64"
      ]
     },
     "execution_count": 30,
     "metadata": {},
     "output_type": "execute_result"
    }
   ],
   "source": [
    "#df.reset_index(drop=True, inplace=True)\n",
    "df[df['signal']==2].count()"
   ]
  },
  {
   "cell_type": "code",
   "execution_count": 24,
   "metadata": {},
   "outputs": [],
   "source": [
    "#Target\n",
    "def mytarget(df1, barsfront):\n",
    "    length = len(df1)\n",
    "    high = list(df1['high'])\n",
    "    low = list(df1['low'])\n",
    "    close = list(df1['close'])\n",
    "    open = list(df1['open'])\n",
    "    trendcat = [None] * length\n",
    "    \n",
    "    piplim = 200e-5\n",
    "    for line in range (0, length-1-barsfront):\n",
    "        for i in range(1,barsfront+1):\n",
    "            if( ((high[line+i]-close[line])>piplim) and ((close[line]-low[line+i])>piplim) ):\n",
    "                trendcat[line] = 3 # no trend\n",
    "                break\n",
    "            elif(close[line]-low[line+i])>piplim:\n",
    "                trendcat[line] = 1 #-1 downtrend\n",
    "                break\n",
    "            elif ((high[line+i]-close[line])>piplim):\n",
    "                trendcat[line] = 2 # uptrend\n",
    "                break\n",
    "            else:\n",
    "                trendcat[line] = 0 # no clear trend  \n",
    "    return trendcat\n",
    "\n",
    "df['Trend'] = mytarget(df,10)\n",
    "#df.head(30)"
   ]
  },
  {
   "cell_type": "code",
   "execution_count": 26,
   "metadata": {},
   "outputs": [
    {
     "name": "stdout",
     "output_type": "stream",
     "text": [
      "0.8235294117647058\n"
     ]
    },
    {
     "data": {
      "text/html": [
       "<div>\n",
       "<style scoped>\n",
       "    .dataframe tbody tr th:only-of-type {\n",
       "        vertical-align: middle;\n",
       "    }\n",
       "\n",
       "    .dataframe tbody tr th {\n",
       "        vertical-align: top;\n",
       "    }\n",
       "\n",
       "    .dataframe thead th {\n",
       "        text-align: right;\n",
       "    }\n",
       "</style>\n",
       "<table border=\"1\" class=\"dataframe\">\n",
       "  <thead>\n",
       "    <tr style=\"text-align: right;\">\n",
       "      <th></th>\n",
       "      <th>Local time</th>\n",
       "      <th>open</th>\n",
       "      <th>high</th>\n",
       "      <th>low</th>\n",
       "      <th>close</th>\n",
       "      <th>volume</th>\n",
       "      <th>RSI</th>\n",
       "      <th>signal</th>\n",
       "      <th>Trend</th>\n",
       "      <th>result</th>\n",
       "    </tr>\n",
       "  </thead>\n",
       "  <tbody>\n",
       "    <tr>\n",
       "      <th>2969</th>\n",
       "      <td>19.09.2014 00:00:00.000 GMT+0300</td>\n",
       "      <td>1.29240</td>\n",
       "      <td>1.29292</td>\n",
       "      <td>1.28288</td>\n",
       "      <td>1.28301</td>\n",
       "      <td>208346.7396</td>\n",
       "      <td>28.228790</td>\n",
       "      <td>1</td>\n",
       "      <td>2.0</td>\n",
       "      <td>0</td>\n",
       "    </tr>\n",
       "    <tr>\n",
       "      <th>2979</th>\n",
       "      <td>03.10.2014 00:00:00.000 GMT+0300</td>\n",
       "      <td>1.26691</td>\n",
       "      <td>1.26754</td>\n",
       "      <td>1.25008</td>\n",
       "      <td>1.25158</td>\n",
       "      <td>188134.2992</td>\n",
       "      <td>21.032260</td>\n",
       "      <td>1</td>\n",
       "      <td>2.0</td>\n",
       "      <td>0</td>\n",
       "    </tr>\n",
       "    <tr>\n",
       "      <th>3056</th>\n",
       "      <td>20.01.2015 00:00:00.000 GMT+0200</td>\n",
       "      <td>1.16072</td>\n",
       "      <td>1.16153</td>\n",
       "      <td>1.15407</td>\n",
       "      <td>1.15506</td>\n",
       "      <td>145923.1308</td>\n",
       "      <td>22.011352</td>\n",
       "      <td>1</td>\n",
       "      <td>2.0</td>\n",
       "      <td>0</td>\n",
       "    </tr>\n",
       "  </tbody>\n",
       "</table>\n",
       "</div>"
      ],
      "text/plain": [
       "                            Local time     open     high      low    close  \\\n",
       "2969  19.09.2014 00:00:00.000 GMT+0300  1.29240  1.29292  1.28288  1.28301   \n",
       "2979  03.10.2014 00:00:00.000 GMT+0300  1.26691  1.26754  1.25008  1.25158   \n",
       "3056  20.01.2015 00:00:00.000 GMT+0200  1.16072  1.16153  1.15407  1.15506   \n",
       "\n",
       "           volume        RSI  signal  Trend  result  \n",
       "2969  208346.7396  28.228790       1    2.0       0  \n",
       "2979  188134.2992  21.032260       1    2.0       0  \n",
       "3056  145923.1308  22.011352       1    2.0       0  "
      ]
     },
     "execution_count": 26,
     "metadata": {},
     "output_type": "execute_result"
    }
   ],
   "source": [
    "import numpy as np\n",
    "conditions = [( (df['Trend'] == 1) | (df['Trend'] == 3) ) & (df['signal'] == 1), ((df['Trend'] == 2) | (df['Trend'] == 3)) & (df['signal'] == 2)]\n",
    "values = [1, 2]\n",
    "df['result'] = np.select(conditions, values)\n",
    "\n",
    "trendId=1\n",
    "print(df[df['result']==trendId].result.count()/df[df['signal']==trendId].signal.count())\n",
    "df[ (df['Trend']!=trendId) & (df['Trend']!=3) & (df['signal']==trendId) ] # false positives"
   ]
  },
  {
   "cell_type": "code",
   "execution_count": 27,
   "metadata": {},
   "outputs": [
    {
     "data": {
      "text/html": [
       "        <script type=\"text/javascript\">\n",
       "        window.PlotlyConfig = {MathJaxConfig: 'local'};\n",
       "        if (window.MathJax) {MathJax.Hub.Config({SVG: {font: \"STIX-Web\"}});}\n",
       "        if (typeof require !== 'undefined') {\n",
       "        require.undef(\"plotly\");\n",
       "        define('plotly', function(require, exports, module) {\n",
       "            /**\n",
       "* plotly.js v1.51.2\n",
       "* Copyright 2012-2019, Plotly, Inc.\n",
       "* All rights reserved.\n",
       "* Licensed under the MIT license\n",
       "*/\n",
       "        });\n",
       "        require(['plotly'], function(Plotly) {\n",
       "            window._Plotly = Plotly;\n",
       "        });\n",
       "        }\n",
       "        </script>\n",
       "        "
      ]
     },
     "metadata": {},
     "output_type": "display_data"
    },
    {
     "data": {
      "application/vnd.plotly.v1+json": {
       "config": {
       },
       "data": [
        {
         "close": [
          1.28949,
          1.2938100000000001,
          1.2917299999999998,
          1.2924799999999999,
          1.29643,
          1.29411,
          1.29605,
          1.28657,
          1.29236,
          1.28301,
          1.2849700000000002,
          1.2847,
          1.27805,
          1.27509,
          1.2683799999999998,
          1.2686,
          1.26308,
          1.2623,
          1.26691,
          1.25158,
          1.26557,
          1.26694,
          1.27341,
          1.26911,
          1.26304,
          1.2752700000000001,
          1.26593,
          1.2838200000000002,
          1.28101,
          1.27615,
          1.28005,
          1.27163,
          1.26488,
          1.26465,
          1.26716,
          1.2699,
          1.2735100000000001,
          1.26325,
          1.2614100000000001,
          1.25271
         ],
         "high": [
          1.2959200000000002,
          1.29576,
          1.29631,
          1.2952,
          1.29796,
          1.2974299999999999,
          1.29952,
          1.29816,
          1.29305,
          1.29292,
          1.28681,
          1.29014,
          1.2864,
          1.27835,
          1.2761,
          1.2715,
          1.27026,
          1.26399,
          1.26991,
          1.26754,
          1.26752,
          1.2682200000000001,
          1.2749,
          1.2791700000000001,
          1.27162,
          1.27616,
          1.2768899999999999,
          1.28871,
          1.28451,
          1.28372,
          1.2817,
          1.28404,
          1.274,
          1.26768,
          1.26959,
          1.27234,
          1.2765,
          1.2770700000000001,
          1.26397,
          1.26179
         ],
         "low": [
          1.28819,
          1.28596,
          1.2884,
          1.2897299999999998,
          1.29091,
          1.2908899999999999,
          1.29225,
          1.28524,
          1.28346,
          1.28288,
          1.28165,
          1.2842799999999999,
          1.27744,
          1.2697200000000002,
          1.2677,
          1.2664,
          1.2571299999999999,
          1.2583799999999998,
          1.2614100000000001,
          1.2500799999999999,
          1.25092,
          1.25839,
          1.26229,
          1.26644,
          1.26058,
          1.26211,
          1.2640200000000001,
          1.26249,
          1.2706,
          1.27441,
          1.27315,
          1.27148,
          1.26376,
          1.2614,
          1.2635100000000001,
          1.2666,
          1.2684799999999998,
          1.2631299999999999,
          1.25479,
          1.24862
         ],
         "open": [
          1.2958399999999999,
          1.28954,
          1.29382,
          1.29176,
          1.2924799999999999,
          1.2974,
          1.29409,
          1.29606,
          1.2865799999999998,
          1.2924,
          1.28349,
          1.285,
          1.28473,
          1.27805,
          1.27511,
          1.2684799999999998,
          1.2685600000000001,
          1.26309,
          1.2622799999999998,
          1.26691,
          1.25149,
          1.26557,
          1.26694,
          1.27344,
          1.26911,
          1.26322,
          1.27525,
          1.26597,
          1.28378,
          1.28099,
          1.27573,
          1.28005,
          1.27167,
          1.26498,
          1.2647,
          1.26786,
          1.2699,
          1.2735100000000001,
          1.26325,
          1.2614100000000001
         ],
         "type": "candlestick",
         "x": [
          2960,
          2961,
          2962,
          2963,
          2964,
          2965,
          2966,
          2967,
          2968,
          2969,
          2970,
          2971,
          2972,
          2973,
          2974,
          2975,
          2976,
          2977,
          2978,
          2979,
          2980,
          2981,
          2982,
          2983,
          2984,
          2985,
          2986,
          2987,
          2988,
          2989,
          2990,
          2991,
          2992,
          2993,
          2994,
          2995,
          2996,
          2997,
          2998,
          2999
         ]
        }
       ],
       "layout": {
        "template": {
         "data": {
          "bar": [
           {
            "error_x": {
             "color": "#2a3f5f"
            },
            "error_y": {
             "color": "#2a3f5f"
            },
            "marker": {
             "line": {
              "color": "#E5ECF6",
              "width": 0.5
             }
            },
            "type": "bar"
           }
          ],
          "barpolar": [
           {
            "marker": {
             "line": {
              "color": "#E5ECF6",
              "width": 0.5
             }
            },
            "type": "barpolar"
           }
          ],
          "carpet": [
           {
            "aaxis": {
             "endlinecolor": "#2a3f5f",
             "gridcolor": "white",
             "linecolor": "white",
             "minorgridcolor": "white",
             "startlinecolor": "#2a3f5f"
            },
            "baxis": {
             "endlinecolor": "#2a3f5f",
             "gridcolor": "white",
             "linecolor": "white",
             "minorgridcolor": "white",
             "startlinecolor": "#2a3f5f"
            },
            "type": "carpet"
           }
          ],
          "choropleth": [
           {
            "colorbar": {
             "outlinewidth": 0,
             "ticks": ""
            },
            "type": "choropleth"
           }
          ],
          "contour": [
           {
            "colorbar": {
             "outlinewidth": 0,
             "ticks": ""
            },
            "colorscale": [
             [
              0,
              "#0d0887"
             ],
             [
              0.1111111111111111,
              "#46039f"
             ],
             [
              0.2222222222222222,
              "#7201a8"
             ],
             [
              0.3333333333333333,
              "#9c179e"
             ],
             [
              0.4444444444444444,
              "#bd3786"
             ],
             [
              0.5555555555555556,
              "#d8576b"
             ],
             [
              0.6666666666666666,
              "#ed7953"
             ],
             [
              0.7777777777777778,
              "#fb9f3a"
             ],
             [
              0.8888888888888888,
              "#fdca26"
             ],
             [
              1,
              "#f0f921"
             ]
            ],
            "type": "contour"
           }
          ],
          "contourcarpet": [
           {
            "colorbar": {
             "outlinewidth": 0,
             "ticks": ""
            },
            "type": "contourcarpet"
           }
          ],
          "heatmap": [
           {
            "colorbar": {
             "outlinewidth": 0,
             "ticks": ""
            },
            "colorscale": [
             [
              0,
              "#0d0887"
             ],
             [
              0.1111111111111111,
              "#46039f"
             ],
             [
              0.2222222222222222,
              "#7201a8"
             ],
             [
              0.3333333333333333,
              "#9c179e"
             ],
             [
              0.4444444444444444,
              "#bd3786"
             ],
             [
              0.5555555555555556,
              "#d8576b"
             ],
             [
              0.6666666666666666,
              "#ed7953"
             ],
             [
              0.7777777777777778,
              "#fb9f3a"
             ],
             [
              0.8888888888888888,
              "#fdca26"
             ],
             [
              1,
              "#f0f921"
             ]
            ],
            "type": "heatmap"
           }
          ],
          "heatmapgl": [
           {
            "colorbar": {
             "outlinewidth": 0,
             "ticks": ""
            },
            "colorscale": [
             [
              0,
              "#0d0887"
             ],
             [
              0.1111111111111111,
              "#46039f"
             ],
             [
              0.2222222222222222,
              "#7201a8"
             ],
             [
              0.3333333333333333,
              "#9c179e"
             ],
             [
              0.4444444444444444,
              "#bd3786"
             ],
             [
              0.5555555555555556,
              "#d8576b"
             ],
             [
              0.6666666666666666,
              "#ed7953"
             ],
             [
              0.7777777777777778,
              "#fb9f3a"
             ],
             [
              0.8888888888888888,
              "#fdca26"
             ],
             [
              1,
              "#f0f921"
             ]
            ],
            "type": "heatmapgl"
           }
          ],
          "histogram": [
           {
            "marker": {
             "colorbar": {
              "outlinewidth": 0,
              "ticks": ""
             }
            },
            "type": "histogram"
           }
          ],
          "histogram2d": [
           {
            "colorbar": {
             "outlinewidth": 0,
             "ticks": ""
            },
            "colorscale": [
             [
              0,
              "#0d0887"
             ],
             [
              0.1111111111111111,
              "#46039f"
             ],
             [
              0.2222222222222222,
              "#7201a8"
             ],
             [
              0.3333333333333333,
              "#9c179e"
             ],
             [
              0.4444444444444444,
              "#bd3786"
             ],
             [
              0.5555555555555556,
              "#d8576b"
             ],
             [
              0.6666666666666666,
              "#ed7953"
             ],
             [
              0.7777777777777778,
              "#fb9f3a"
             ],
             [
              0.8888888888888888,
              "#fdca26"
             ],
             [
              1,
              "#f0f921"
             ]
            ],
            "type": "histogram2d"
           }
          ],
          "histogram2dcontour": [
           {
            "colorbar": {
             "outlinewidth": 0,
             "ticks": ""
            },
            "colorscale": [
             [
              0,
              "#0d0887"
             ],
             [
              0.1111111111111111,
              "#46039f"
             ],
             [
              0.2222222222222222,
              "#7201a8"
             ],
             [
              0.3333333333333333,
              "#9c179e"
             ],
             [
              0.4444444444444444,
              "#bd3786"
             ],
             [
              0.5555555555555556,
              "#d8576b"
             ],
             [
              0.6666666666666666,
              "#ed7953"
             ],
             [
              0.7777777777777778,
              "#fb9f3a"
             ],
             [
              0.8888888888888888,
              "#fdca26"
             ],
             [
              1,
              "#f0f921"
             ]
            ],
            "type": "histogram2dcontour"
           }
          ],
          "mesh3d": [
           {
            "colorbar": {
             "outlinewidth": 0,
             "ticks": ""
            },
            "type": "mesh3d"
           }
          ],
          "parcoords": [
           {
            "line": {
             "colorbar": {
              "outlinewidth": 0,
              "ticks": ""
             }
            },
            "type": "parcoords"
           }
          ],
          "pie": [
           {
            "automargin": true,
            "type": "pie"
           }
          ],
          "scatter": [
           {
            "marker": {
             "colorbar": {
              "outlinewidth": 0,
              "ticks": ""
             }
            },
            "type": "scatter"
           }
          ],
          "scatter3d": [
           {
            "line": {
             "colorbar": {
              "outlinewidth": 0,
              "ticks": ""
             }
            },
            "marker": {
             "colorbar": {
              "outlinewidth": 0,
              "ticks": ""
             }
            },
            "type": "scatter3d"
           }
          ],
          "scattercarpet": [
           {
            "marker": {
             "colorbar": {
              "outlinewidth": 0,
              "ticks": ""
             }
            },
            "type": "scattercarpet"
           }
          ],
          "scattergeo": [
           {
            "marker": {
             "colorbar": {
              "outlinewidth": 0,
              "ticks": ""
             }
            },
            "type": "scattergeo"
           }
          ],
          "scattergl": [
           {
            "marker": {
             "colorbar": {
              "outlinewidth": 0,
              "ticks": ""
             }
            },
            "type": "scattergl"
           }
          ],
          "scattermapbox": [
           {
            "marker": {
             "colorbar": {
              "outlinewidth": 0,
              "ticks": ""
             }
            },
            "type": "scattermapbox"
           }
          ],
          "scatterpolar": [
           {
            "marker": {
             "colorbar": {
              "outlinewidth": 0,
              "ticks": ""
             }
            },
            "type": "scatterpolar"
           }
          ],
          "scatterpolargl": [
           {
            "marker": {
             "colorbar": {
              "outlinewidth": 0,
              "ticks": ""
             }
            },
            "type": "scatterpolargl"
           }
          ],
          "scatterternary": [
           {
            "marker": {
             "colorbar": {
              "outlinewidth": 0,
              "ticks": ""
             }
            },
            "type": "scatterternary"
           }
          ],
          "surface": [
           {
            "colorbar": {
             "outlinewidth": 0,
             "ticks": ""
            },
            "colorscale": [
             [
              0,
              "#0d0887"
             ],
             [
              0.1111111111111111,
              "#46039f"
             ],
             [
              0.2222222222222222,
              "#7201a8"
             ],
             [
              0.3333333333333333,
              "#9c179e"
             ],
             [
              0.4444444444444444,
              "#bd3786"
             ],
             [
              0.5555555555555556,
              "#d8576b"
             ],
             [
              0.6666666666666666,
              "#ed7953"
             ],
             [
              0.7777777777777778,
              "#fb9f3a"
             ],
             [
              0.8888888888888888,
              "#fdca26"
             ],
             [
              1,
              "#f0f921"
             ]
            ],
            "type": "surface"
           }
          ],
          "table": [
           {
            "cells": {
             "fill": {
              "color": "#EBF0F8"
             },
             "line": {
              "color": "white"
             }
            },
            "header": {
             "fill": {
              "color": "#C8D4E3"
             },
             "line": {
              "color": "white"
             }
            },
            "type": "table"
           }
          ]
         },
         "layout": {
          "annotationdefaults": {
           "arrowcolor": "#2a3f5f",
           "arrowhead": 0,
           "arrowwidth": 1
          },
          "coloraxis": {
           "colorbar": {
            "outlinewidth": 0,
            "ticks": ""
           }
          },
          "colorscale": {
           "diverging": [
            [
             0,
             "#8e0152"
            ],
            [
             0.1,
             "#c51b7d"
            ],
            [
             0.2,
             "#de77ae"
            ],
            [
             0.3,
             "#f1b6da"
            ],
            [
             0.4,
             "#fde0ef"
            ],
            [
             0.5,
             "#f7f7f7"
            ],
            [
             0.6,
             "#e6f5d0"
            ],
            [
             0.7,
             "#b8e186"
            ],
            [
             0.8,
             "#7fbc41"
            ],
            [
             0.9,
             "#4d9221"
            ],
            [
             1,
             "#276419"
            ]
           ],
           "sequential": [
            [
             0,
             "#0d0887"
            ],
            [
             0.1111111111111111,
             "#46039f"
            ],
            [
             0.2222222222222222,
             "#7201a8"
            ],
            [
             0.3333333333333333,
             "#9c179e"
            ],
            [
             0.4444444444444444,
             "#bd3786"
            ],
            [
             0.5555555555555556,
             "#d8576b"
            ],
            [
             0.6666666666666666,
             "#ed7953"
            ],
            [
             0.7777777777777778,
             "#fb9f3a"
            ],
            [
             0.8888888888888888,
             "#fdca26"
            ],
            [
             1,
             "#f0f921"
            ]
           ],
           "sequentialminus": [
            [
             0,
             "#0d0887"
            ],
            [
             0.1111111111111111,
             "#46039f"
            ],
            [
             0.2222222222222222,
             "#7201a8"
            ],
            [
             0.3333333333333333,
             "#9c179e"
            ],
            [
             0.4444444444444444,
             "#bd3786"
            ],
            [
             0.5555555555555556,
             "#d8576b"
            ],
            [
             0.6666666666666666,
             "#ed7953"
            ],
            [
             0.7777777777777778,
             "#fb9f3a"
            ],
            [
             0.8888888888888888,
             "#fdca26"
            ],
            [
             1,
             "#f0f921"
            ]
           ]
          },
          "colorway": [
           "#636efa",
           "#EF553B",
           "#00cc96",
           "#ab63fa",
           "#FFA15A",
           "#19d3f3",
           "#FF6692",
           "#B6E880",
           "#FF97FF",
           "#FECB52"
          ],
          "font": {
           "color": "#2a3f5f"
          },
          "geo": {
           "bgcolor": "white",
           "lakecolor": "white",
           "landcolor": "#E5ECF6",
           "showlakes": true,
           "showland": true,
           "subunitcolor": "white"
          },
          "hoverlabel": {
           "align": "left"
          },
          "hovermode": "closest",
          "mapbox": {
           "style": "light"
          },
          "paper_bgcolor": "white",
          "plot_bgcolor": "#E5ECF6",
          "polar": {
           "angularaxis": {
            "gridcolor": "white",
            "linecolor": "white",
            "ticks": ""
           },
           "bgcolor": "#E5ECF6",
           "radialaxis": {
            "gridcolor": "white",
            "linecolor": "white",
            "ticks": ""
           }
          },
          "scene": {
           "xaxis": {
            "backgroundcolor": "#E5ECF6",
            "gridcolor": "white",
            "gridwidth": 2,
            "linecolor": "white",
            "showbackground": true,
            "ticks": "",
            "zerolinecolor": "white"
           },
           "yaxis": {
            "backgroundcolor": "#E5ECF6",
            "gridcolor": "white",
            "gridwidth": 2,
            "linecolor": "white",
            "showbackground": true,
            "ticks": "",
            "zerolinecolor": "white"
           },
           "zaxis": {
            "backgroundcolor": "#E5ECF6",
            "gridcolor": "white",
            "gridwidth": 2,
            "linecolor": "white",
            "showbackground": true,
            "ticks": "",
            "zerolinecolor": "white"
           }
          },
          "shapedefaults": {
           "line": {
            "color": "#2a3f5f"
           }
          },
          "ternary": {
           "aaxis": {
            "gridcolor": "white",
            "linecolor": "white",
            "ticks": ""
           },
           "baxis": {
            "gridcolor": "white",
            "linecolor": "white",
            "ticks": ""
           },
           "bgcolor": "#E5ECF6",
           "caxis": {
            "gridcolor": "white",
            "linecolor": "white",
            "ticks": ""
           }
          },
          "title": {
           "x": 0.05
          },
          "xaxis": {
           "automargin": true,
           "gridcolor": "white",
           "linecolor": "white",
           "ticks": "",
           "title": {
            "standoff": 15
           },
           "zerolinecolor": "white",
           "zerolinewidth": 2
          },
          "yaxis": {
           "automargin": true,
           "gridcolor": "white",
           "linecolor": "white",
           "ticks": "",
           "title": {
            "standoff": 15
           },
           "zerolinecolor": "white",
           "zerolinewidth": 2
          }
         }
        }
       }
      },
      "text/html": [
       "<div>\n",
       "        \n",
       "        \n",
       "            <div id=\"5a797cdd-7856-447c-b0fa-63e767ae9a22\" class=\"plotly-graph-div\" style=\"height:525px; width:100%;\"></div>\n",
       "            <script type=\"text/javascript\">\n",
       "                require([\"plotly\"], function(Plotly) {\n",
       "                    window.PLOTLYENV=window.PLOTLYENV || {};\n",
       "                    \n",
       "                if (document.getElementById(\"5a797cdd-7856-447c-b0fa-63e767ae9a22\")) {\n",
       "                    Plotly.newPlot(\n",
       "                        '5a797cdd-7856-447c-b0fa-63e767ae9a22',\n",
       "                        [{\"close\": [1.28949, 1.2938100000000001, 1.2917299999999998, 1.2924799999999999, 1.29643, 1.29411, 1.29605, 1.28657, 1.29236, 1.28301, 1.2849700000000002, 1.2847, 1.27805, 1.27509, 1.2683799999999998, 1.2686, 1.26308, 1.2623, 1.26691, 1.25158, 1.26557, 1.26694, 1.27341, 1.26911, 1.26304, 1.2752700000000001, 1.26593, 1.2838200000000002, 1.28101, 1.27615, 1.28005, 1.27163, 1.26488, 1.26465, 1.26716, 1.2699, 1.2735100000000001, 1.26325, 1.2614100000000001, 1.25271], \"high\": [1.2959200000000002, 1.29576, 1.29631, 1.2952, 1.29796, 1.2974299999999999, 1.29952, 1.29816, 1.29305, 1.29292, 1.28681, 1.29014, 1.2864, 1.27835, 1.2761, 1.2715, 1.27026, 1.26399, 1.26991, 1.26754, 1.26752, 1.2682200000000001, 1.2749, 1.2791700000000001, 1.27162, 1.27616, 1.2768899999999999, 1.28871, 1.28451, 1.28372, 1.2817, 1.28404, 1.274, 1.26768, 1.26959, 1.27234, 1.2765, 1.2770700000000001, 1.26397, 1.26179], \"low\": [1.28819, 1.28596, 1.2884, 1.2897299999999998, 1.29091, 1.2908899999999999, 1.29225, 1.28524, 1.28346, 1.28288, 1.28165, 1.2842799999999999, 1.27744, 1.2697200000000002, 1.2677, 1.2664, 1.2571299999999999, 1.2583799999999998, 1.2614100000000001, 1.2500799999999999, 1.25092, 1.25839, 1.26229, 1.26644, 1.26058, 1.26211, 1.2640200000000001, 1.26249, 1.2706, 1.27441, 1.27315, 1.27148, 1.26376, 1.2614, 1.2635100000000001, 1.2666, 1.2684799999999998, 1.2631299999999999, 1.25479, 1.24862], \"open\": [1.2958399999999999, 1.28954, 1.29382, 1.29176, 1.2924799999999999, 1.2974, 1.29409, 1.29606, 1.2865799999999998, 1.2924, 1.28349, 1.285, 1.28473, 1.27805, 1.27511, 1.2684799999999998, 1.2685600000000001, 1.26309, 1.2622799999999998, 1.26691, 1.25149, 1.26557, 1.26694, 1.27344, 1.26911, 1.26322, 1.27525, 1.26597, 1.28378, 1.28099, 1.27573, 1.28005, 1.27167, 1.26498, 1.2647, 1.26786, 1.2699, 1.2735100000000001, 1.26325, 1.2614100000000001], \"type\": \"candlestick\", \"x\": [2960, 2961, 2962, 2963, 2964, 2965, 2966, 2967, 2968, 2969, 2970, 2971, 2972, 2973, 2974, 2975, 2976, 2977, 2978, 2979, 2980, 2981, 2982, 2983, 2984, 2985, 2986, 2987, 2988, 2989, 2990, 2991, 2992, 2993, 2994, 2995, 2996, 2997, 2998, 2999]}],\n",
       "                        {\"template\": {\"data\": {\"bar\": [{\"error_x\": {\"color\": \"#2a3f5f\"}, \"error_y\": {\"color\": \"#2a3f5f\"}, \"marker\": {\"line\": {\"color\": \"#E5ECF6\", \"width\": 0.5}}, \"type\": \"bar\"}], \"barpolar\": [{\"marker\": {\"line\": {\"color\": \"#E5ECF6\", \"width\": 0.5}}, \"type\": \"barpolar\"}], \"carpet\": [{\"aaxis\": {\"endlinecolor\": \"#2a3f5f\", \"gridcolor\": \"white\", \"linecolor\": \"white\", \"minorgridcolor\": \"white\", \"startlinecolor\": \"#2a3f5f\"}, \"baxis\": {\"endlinecolor\": \"#2a3f5f\", \"gridcolor\": \"white\", \"linecolor\": \"white\", \"minorgridcolor\": \"white\", \"startlinecolor\": \"#2a3f5f\"}, \"type\": \"carpet\"}], \"choropleth\": [{\"colorbar\": {\"outlinewidth\": 0, \"ticks\": \"\"}, \"type\": \"choropleth\"}], \"contour\": [{\"colorbar\": {\"outlinewidth\": 0, \"ticks\": \"\"}, \"colorscale\": [[0.0, \"#0d0887\"], [0.1111111111111111, \"#46039f\"], [0.2222222222222222, \"#7201a8\"], [0.3333333333333333, \"#9c179e\"], [0.4444444444444444, \"#bd3786\"], [0.5555555555555556, \"#d8576b\"], [0.6666666666666666, \"#ed7953\"], [0.7777777777777778, \"#fb9f3a\"], [0.8888888888888888, \"#fdca26\"], [1.0, \"#f0f921\"]], \"type\": \"contour\"}], \"contourcarpet\": [{\"colorbar\": {\"outlinewidth\": 0, \"ticks\": \"\"}, \"type\": \"contourcarpet\"}], \"heatmap\": [{\"colorbar\": {\"outlinewidth\": 0, \"ticks\": \"\"}, \"colorscale\": [[0.0, \"#0d0887\"], [0.1111111111111111, \"#46039f\"], [0.2222222222222222, \"#7201a8\"], [0.3333333333333333, \"#9c179e\"], [0.4444444444444444, \"#bd3786\"], [0.5555555555555556, \"#d8576b\"], [0.6666666666666666, \"#ed7953\"], [0.7777777777777778, \"#fb9f3a\"], [0.8888888888888888, \"#fdca26\"], [1.0, \"#f0f921\"]], \"type\": \"heatmap\"}], \"heatmapgl\": [{\"colorbar\": {\"outlinewidth\": 0, \"ticks\": \"\"}, \"colorscale\": [[0.0, \"#0d0887\"], [0.1111111111111111, \"#46039f\"], [0.2222222222222222, \"#7201a8\"], [0.3333333333333333, \"#9c179e\"], [0.4444444444444444, \"#bd3786\"], [0.5555555555555556, \"#d8576b\"], [0.6666666666666666, \"#ed7953\"], [0.7777777777777778, \"#fb9f3a\"], [0.8888888888888888, \"#fdca26\"], [1.0, \"#f0f921\"]], \"type\": \"heatmapgl\"}], \"histogram\": [{\"marker\": {\"colorbar\": {\"outlinewidth\": 0, \"ticks\": \"\"}}, \"type\": \"histogram\"}], \"histogram2d\": [{\"colorbar\": {\"outlinewidth\": 0, \"ticks\": \"\"}, \"colorscale\": [[0.0, \"#0d0887\"], [0.1111111111111111, \"#46039f\"], [0.2222222222222222, \"#7201a8\"], [0.3333333333333333, \"#9c179e\"], [0.4444444444444444, \"#bd3786\"], [0.5555555555555556, \"#d8576b\"], [0.6666666666666666, \"#ed7953\"], [0.7777777777777778, \"#fb9f3a\"], [0.8888888888888888, \"#fdca26\"], [1.0, \"#f0f921\"]], \"type\": \"histogram2d\"}], \"histogram2dcontour\": [{\"colorbar\": {\"outlinewidth\": 0, \"ticks\": \"\"}, \"colorscale\": [[0.0, \"#0d0887\"], [0.1111111111111111, \"#46039f\"], [0.2222222222222222, \"#7201a8\"], [0.3333333333333333, \"#9c179e\"], [0.4444444444444444, \"#bd3786\"], [0.5555555555555556, \"#d8576b\"], [0.6666666666666666, \"#ed7953\"], [0.7777777777777778, \"#fb9f3a\"], [0.8888888888888888, \"#fdca26\"], [1.0, \"#f0f921\"]], \"type\": \"histogram2dcontour\"}], \"mesh3d\": [{\"colorbar\": {\"outlinewidth\": 0, \"ticks\": \"\"}, \"type\": \"mesh3d\"}], \"parcoords\": [{\"line\": {\"colorbar\": {\"outlinewidth\": 0, \"ticks\": \"\"}}, \"type\": \"parcoords\"}], \"pie\": [{\"automargin\": true, \"type\": \"pie\"}], \"scatter\": [{\"marker\": {\"colorbar\": {\"outlinewidth\": 0, \"ticks\": \"\"}}, \"type\": \"scatter\"}], \"scatter3d\": [{\"line\": {\"colorbar\": {\"outlinewidth\": 0, \"ticks\": \"\"}}, \"marker\": {\"colorbar\": {\"outlinewidth\": 0, \"ticks\": \"\"}}, \"type\": \"scatter3d\"}], \"scattercarpet\": [{\"marker\": {\"colorbar\": {\"outlinewidth\": 0, \"ticks\": \"\"}}, \"type\": \"scattercarpet\"}], \"scattergeo\": [{\"marker\": {\"colorbar\": {\"outlinewidth\": 0, \"ticks\": \"\"}}, \"type\": \"scattergeo\"}], \"scattergl\": [{\"marker\": {\"colorbar\": {\"outlinewidth\": 0, \"ticks\": \"\"}}, \"type\": \"scattergl\"}], \"scattermapbox\": [{\"marker\": {\"colorbar\": {\"outlinewidth\": 0, \"ticks\": \"\"}}, \"type\": \"scattermapbox\"}], \"scatterpolar\": [{\"marker\": {\"colorbar\": {\"outlinewidth\": 0, \"ticks\": \"\"}}, \"type\": \"scatterpolar\"}], \"scatterpolargl\": [{\"marker\": {\"colorbar\": {\"outlinewidth\": 0, \"ticks\": \"\"}}, \"type\": \"scatterpolargl\"}], \"scatterternary\": [{\"marker\": {\"colorbar\": {\"outlinewidth\": 0, \"ticks\": \"\"}}, \"type\": \"scatterternary\"}], \"surface\": [{\"colorbar\": {\"outlinewidth\": 0, \"ticks\": \"\"}, \"colorscale\": [[0.0, \"#0d0887\"], [0.1111111111111111, \"#46039f\"], [0.2222222222222222, \"#7201a8\"], [0.3333333333333333, \"#9c179e\"], [0.4444444444444444, \"#bd3786\"], [0.5555555555555556, \"#d8576b\"], [0.6666666666666666, \"#ed7953\"], [0.7777777777777778, \"#fb9f3a\"], [0.8888888888888888, \"#fdca26\"], [1.0, \"#f0f921\"]], \"type\": \"surface\"}], \"table\": [{\"cells\": {\"fill\": {\"color\": \"#EBF0F8\"}, \"line\": {\"color\": \"white\"}}, \"header\": {\"fill\": {\"color\": \"#C8D4E3\"}, \"line\": {\"color\": \"white\"}}, \"type\": \"table\"}]}, \"layout\": {\"annotationdefaults\": {\"arrowcolor\": \"#2a3f5f\", \"arrowhead\": 0, \"arrowwidth\": 1}, \"coloraxis\": {\"colorbar\": {\"outlinewidth\": 0, \"ticks\": \"\"}}, \"colorscale\": {\"diverging\": [[0, \"#8e0152\"], [0.1, \"#c51b7d\"], [0.2, \"#de77ae\"], [0.3, \"#f1b6da\"], [0.4, \"#fde0ef\"], [0.5, \"#f7f7f7\"], [0.6, \"#e6f5d0\"], [0.7, \"#b8e186\"], [0.8, \"#7fbc41\"], [0.9, \"#4d9221\"], [1, \"#276419\"]], \"sequential\": [[0.0, \"#0d0887\"], [0.1111111111111111, \"#46039f\"], [0.2222222222222222, \"#7201a8\"], [0.3333333333333333, \"#9c179e\"], [0.4444444444444444, \"#bd3786\"], [0.5555555555555556, \"#d8576b\"], [0.6666666666666666, \"#ed7953\"], [0.7777777777777778, \"#fb9f3a\"], [0.8888888888888888, \"#fdca26\"], [1.0, \"#f0f921\"]], \"sequentialminus\": [[0.0, \"#0d0887\"], [0.1111111111111111, \"#46039f\"], [0.2222222222222222, \"#7201a8\"], [0.3333333333333333, \"#9c179e\"], [0.4444444444444444, \"#bd3786\"], [0.5555555555555556, \"#d8576b\"], [0.6666666666666666, \"#ed7953\"], [0.7777777777777778, \"#fb9f3a\"], [0.8888888888888888, \"#fdca26\"], [1.0, \"#f0f921\"]]}, \"colorway\": [\"#636efa\", \"#EF553B\", \"#00cc96\", \"#ab63fa\", \"#FFA15A\", \"#19d3f3\", \"#FF6692\", \"#B6E880\", \"#FF97FF\", \"#FECB52\"], \"font\": {\"color\": \"#2a3f5f\"}, \"geo\": {\"bgcolor\": \"white\", \"lakecolor\": \"white\", \"landcolor\": \"#E5ECF6\", \"showlakes\": true, \"showland\": true, \"subunitcolor\": \"white\"}, \"hoverlabel\": {\"align\": \"left\"}, \"hovermode\": \"closest\", \"mapbox\": {\"style\": \"light\"}, \"paper_bgcolor\": \"white\", \"plot_bgcolor\": \"#E5ECF6\", \"polar\": {\"angularaxis\": {\"gridcolor\": \"white\", \"linecolor\": \"white\", \"ticks\": \"\"}, \"bgcolor\": \"#E5ECF6\", \"radialaxis\": {\"gridcolor\": \"white\", \"linecolor\": \"white\", \"ticks\": \"\"}}, \"scene\": {\"xaxis\": {\"backgroundcolor\": \"#E5ECF6\", \"gridcolor\": \"white\", \"gridwidth\": 2, \"linecolor\": \"white\", \"showbackground\": true, \"ticks\": \"\", \"zerolinecolor\": \"white\"}, \"yaxis\": {\"backgroundcolor\": \"#E5ECF6\", \"gridcolor\": \"white\", \"gridwidth\": 2, \"linecolor\": \"white\", \"showbackground\": true, \"ticks\": \"\", \"zerolinecolor\": \"white\"}, \"zaxis\": {\"backgroundcolor\": \"#E5ECF6\", \"gridcolor\": \"white\", \"gridwidth\": 2, \"linecolor\": \"white\", \"showbackground\": true, \"ticks\": \"\", \"zerolinecolor\": \"white\"}}, \"shapedefaults\": {\"line\": {\"color\": \"#2a3f5f\"}}, \"ternary\": {\"aaxis\": {\"gridcolor\": \"white\", \"linecolor\": \"white\", \"ticks\": \"\"}, \"baxis\": {\"gridcolor\": \"white\", \"linecolor\": \"white\", \"ticks\": \"\"}, \"bgcolor\": \"#E5ECF6\", \"caxis\": {\"gridcolor\": \"white\", \"linecolor\": \"white\", \"ticks\": \"\"}}, \"title\": {\"x\": 0.05}, \"xaxis\": {\"automargin\": true, \"gridcolor\": \"white\", \"linecolor\": \"white\", \"ticks\": \"\", \"title\": {\"standoff\": 15}, \"zerolinecolor\": \"white\", \"zerolinewidth\": 2}, \"yaxis\": {\"automargin\": true, \"gridcolor\": \"white\", \"linecolor\": \"white\", \"ticks\": \"\", \"title\": {\"standoff\": 15}, \"zerolinecolor\": \"white\", \"zerolinewidth\": 2}}}},\n",
       "                        {\"responsive\": true}\n",
       "                    ).then(function(){\n",
       "                            \n",
       "var gd = document.getElementById('5a797cdd-7856-447c-b0fa-63e767ae9a22');\n",
       "var x = new MutationObserver(function (mutations, observer) {{\n",
       "        var display = window.getComputedStyle(gd).display;\n",
       "        if (!display || display === 'none') {{\n",
       "            console.log([gd, 'removed!']);\n",
       "            Plotly.purge(gd);\n",
       "            observer.disconnect();\n",
       "        }}\n",
       "}});\n",
       "\n",
       "// Listen for the removal of the full notebook cells\n",
       "var notebookContainer = gd.closest('#notebook-container');\n",
       "if (notebookContainer) {{\n",
       "    x.observe(notebookContainer, {childList: true});\n",
       "}}\n",
       "\n",
       "// Listen for the clearing of the current output cell\n",
       "var outputEl = gd.closest('.output');\n",
       "if (outputEl) {{\n",
       "    x.observe(outputEl, {childList: true});\n",
       "}}\n",
       "\n",
       "                        })\n",
       "                };\n",
       "                });\n",
       "            </script>\n",
       "        </div>"
      ]
     },
     "metadata": {},
     "output_type": "display_data"
    }
   ],
   "source": [
    "dfpl = df[2960:3000]\n",
    "import plotly.graph_objects as go\n",
    "from datetime import datetime\n",
    "\n",
    "fig = go.Figure(data=[go.Candlestick(x=dfpl.index,\n",
    "                open=dfpl['open'],\n",
    "                high=dfpl['high'],\n",
    "                low=dfpl['low'],\n",
    "                close=dfpl['close'])])\n",
    "\n",
    "fig.show()"
   ]
  },
  {
   "cell_type": "code",
   "execution_count": null,
   "metadata": {},
   "outputs": [],
   "source": []
  }
 ],
 "metadata": {
  "kernelspec": {
   "display_name": "Python 3",
   "language": "python",
   "name": "python3"
  },
  "language_info": {
   "codemirror_mode": {
    "name": "ipython",
    "version": 3
   },
   "file_extension": ".py",
   "mimetype": "text/x-python",
   "name": "python",
   "nbconvert_exporter": "python",
   "pygments_lexer": "ipython3",
   "version": "3.7.3"
  }
 },
 "nbformat": 4,
 "nbformat_minor": 2
}
